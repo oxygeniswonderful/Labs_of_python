{
 "cells": [
  {
   "cell_type": "code",
   "execution_count": 4,
   "metadata": {},
   "outputs": [],
   "source": [
    "#1\n",
    "import turtle\n",
    "from random import *\n",
    "turtle.color(\"red\")\n",
    "for i in range(50):\n",
    "    turtle.forward(randint(1,50))\n",
    "    turtle.right(randint(0,360))"
   ]
  },
  {
   "cell_type": "code",
   "execution_count": 2,
   "metadata": {},
   "outputs": [
    {
     "ename": "SystemExit",
     "evalue": "0",
     "output_type": "error",
     "traceback": [
      "An exception has occurred, use %tb to see the full traceback.\n",
      "\u001b[0;31mSystemExit\u001b[0m\u001b[0;31m:\u001b[0m 0\n"
     ]
    },
    {
     "name": "stderr",
     "output_type": "stream",
     "text": [
      "/Users/admin/opt/anaconda3/lib/python3.7/site-packages/IPython/core/interactiveshell.py:3334: UserWarning: To exit: use 'exit', 'quit', or Ctrl-D.\n",
      "  warn(\"To exit: use 'exit', 'quit', or Ctrl-D.\", stacklevel=1)\n"
     ]
    }
   ],
   "source": [
    "#2\n",
    "import turtle as t\n",
    "import math\n",
    "t.color(\"blue\")\n",
    "l = 30\n",
    "l2 = l * math.sqrt(2)\n",
    "helper = [(0, 0, l, 90, 2 * l, 90, l, 90, 2 * l, 90), \n",
    "       (l, 90, 2 * l,135, l2, 135), (l, 180, l,-135, l2, 45, l, 90, l, 180),\n",
    "       (0, 45, l2, 135, l, -135, l2, 135, l, 180),(l,90, 2*l, 180, l, -90, l, -90, l, -90),\n",
    "       (0, 0, l, 90, l, 90, l, -90, l, -90, l),(0, 0, l, 90, l, 90, l, 90, l, 180, l, -45, l2, -45),\n",
    "       (0, 90, l, -45, l2, 135, l, 180),(0, 0, l, 90, 2*l, 90, l, 90, 2*l, 180, l, -90, l),\n",
    "       (0, 45, l2, 45, l, 90, l, 90, l, 90, l)]\n",
    "\n",
    "#number = input()\n",
    "number = \"141700\"\n",
    "for k, digit in enumerate(number):\n",
    "    t.penup()\n",
    "    t.goto((k - len(number) / 2) * (l + 10),0)\n",
    "    t.pendown();\n",
    "    n = helper[int(digit)]\n",
    "    t.penup()\n",
    "    t.forward(n[0])\n",
    "    t.left(n[1])\n",
    "    t.pendown()\n",
    "    for j in range(2, len(n)):\n",
    "        if (j % 2 == 0):\n",
    "            t.forward(n[j])\n",
    "        else:\n",
    "            t.left(n[j])\n",
    "t.exitonclick()"
   ]
  },
  {
   "cell_type": "code",
   "execution_count": 1,
   "metadata": {},
   "outputs": [
    {
     "ename": "SystemExit",
     "evalue": "0",
     "output_type": "error",
     "traceback": [
      "An exception has occurred, use %tb to see the full traceback.\n",
      "\u001b[0;31mSystemExit\u001b[0m\u001b[0;31m:\u001b[0m 0\n"
     ]
    },
    {
     "name": "stderr",
     "output_type": "stream",
     "text": [
      "/Users/admin/opt/anaconda3/lib/python3.7/site-packages/IPython/core/interactiveshell.py:3334: UserWarning: To exit: use 'exit', 'quit', or Ctrl-D.\n",
      "  warn(\"To exit: use 'exit', 'quit', or Ctrl-D.\", stacklevel=1)\n"
     ]
    }
   ],
   "source": [
    "#3\n",
    "import turtle as t\n",
    "import math\n",
    "\n",
    "l = 30\n",
    "l2 = l * math.sqrt(2)\n",
    "helper = [(0, 0, l, 90, 2 * l, 90, l, 90, 2 * l, 90), \n",
    "       (l, 90, 2 * l,135, l2, 135), (l, 180, l,-135, l2, 45, l, 90, l, 180),\n",
    "       (0, 45, l2, 135, l, -135, l2, 135, l, 180),(l,90, 2*l, 180, l, -90, l, -90, l, -90),\n",
    "       (0, 0, l, 90, l, 90, l, -90, l, -90, l),(0, 0, l, 90, l, 90, l, 90, l, 180, l, -45, l2, -45),\n",
    "       (0, 90, l, -45, l2, 135, l, 180),(0, 0, l, 90, 2*l, 90, l, 90, 2*l, 180, l, -90, l),\n",
    "       (0, 45, l2, 45, l, 90, l, 90, l, 90, l)]\n",
    "file = open('input.txt', 'r')\n",
    "number = file.read().rstrip()\n",
    "file.close()\n",
    "for k, digit in enumerate(number):\n",
    "    t.penup()\n",
    "    t.goto((k-len(number)/2)*(l+10),0)\n",
    "    t.pendown();\n",
    "    n = helper[int(digit)]\n",
    "    t.penup()\n",
    "    t.forward(n[0])\n",
    "    t.left(n[1])\n",
    "    t.pendown()\n",
    "    for j in range(2, len(n)):\n",
    "        if (j % 2 == 0):\n",
    "            t.forward(n[j])\n",
    "        else:\n",
    "            t.left(n[j])\n",
    "t.exitonclick()"
   ]
  },
  {
   "cell_type": "code",
   "execution_count": 4,
   "metadata": {},
   "outputs": [],
   "source": [
    "#4\n",
    "from random import randint\n",
    "import turtle\n",
    "import math\n",
    "X = turtle.window_width()\n",
    "Y = turtle.window_height()\n",
    "K = 0.01\n",
    "number_of_turtles = 10 #int(input())\n",
    "steps_of_time_number = 100\n",
    "pool = [turtle.Turtle(shape='circle') for i in range(number_of_turtles)]\n",
    "v = [[randint(-4, 4), randint(-4, 4)] for _ in range(number_of_turtles)]\n",
    "for unit in pool:\n",
    "    unit.penup()\n",
    "    unit.speed(0)\n",
    "    unit.goto(randint(-200, 200), randint(-200, 200))\n",
    "for i in range(steps_of_time_number):\n",
    "    for j in range(number_of_turtles):\n",
    "        unit = pool[j]\n",
    "        pos = unit.pos()\n",
    "        for unit1 in pool:\n",
    "            if (unit1 != unit):\n",
    "                dx = (unit1.pos()[0] - unit.pos()[0])\n",
    "                dy = (unit1.pos()[1] - unit.pos()[1])\n",
    "                d = math.sqrt(dx**2 + dy**2)\n",
    "                v[j][0]-= K / ((d / 30)**3) * dx\n",
    "                v[j][1]-= K / ((d / 30)**3) * dy\n",
    "        if (pos[0] <= -X / 2 or pos[0] >= X / 2):\n",
    "            v[j][0] *= -1\n",
    "        if (pos[1] <= -Y / 2 or pos[1] >= Y / 2):\n",
    "            v[j][1] *= -1\n",
    "        unit.goto(pos+v[j])"
   ]
  },
  {
   "cell_type": "code",
   "execution_count": null,
   "metadata": {},
   "outputs": [],
   "source": []
  },
  {
   "cell_type": "code",
   "execution_count": null,
   "metadata": {},
   "outputs": [],
   "source": []
  },
  {
   "cell_type": "code",
   "execution_count": null,
   "metadata": {},
   "outputs": [],
   "source": []
  }
 ],
 "metadata": {
  "kernelspec": {
   "display_name": "Python 3",
   "language": "python",
   "name": "python3"
  },
  "language_info": {
   "codemirror_mode": {
    "name": "ipython",
    "version": 3
   },
   "file_extension": ".py",
   "mimetype": "text/x-python",
   "name": "python",
   "nbconvert_exporter": "python",
   "pygments_lexer": "ipython3",
   "version": "3.7.4"
  }
 },
 "nbformat": 4,
 "nbformat_minor": 2
}
