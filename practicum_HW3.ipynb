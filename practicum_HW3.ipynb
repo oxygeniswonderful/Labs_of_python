{
 "cells": [
  {
   "cell_type": "code",
   "execution_count": 4,
   "metadata": {},
   "outputs": [],
   "source": [
    "#1\n",
    "import turtle\n",
    "from random import *\n",
    "turtle.color(\"red\")\n",
    "for i in range(50):\n",
    "    turtle.forward(randint(1,50))\n",
    "    turtle.right(randint(0,360))"
   ]
  },
  {
   "cell_type": "code",
   "execution_count": 2,
   "metadata": {},
   "outputs": [
    {
     "ename": "SystemExit",
     "evalue": "0",
     "output_type": "error",
     "traceback": [
      "An exception has occurred, use %tb to see the full traceback.\n",
      "\u001b[0;31mSystemExit\u001b[0m\u001b[0;31m:\u001b[0m 0\n"
     ]
    },
    {
     "name": "stderr",
     "output_type": "stream",
     "text": [
      "/Users/admin/opt/anaconda3/lib/python3.7/site-packages/IPython/core/interactiveshell.py:3334: UserWarning: To exit: use 'exit', 'quit', or Ctrl-D.\n",
      "  warn(\"To exit: use 'exit', 'quit', or Ctrl-D.\", stacklevel=1)\n"
     ]
    }
   ],
   "source": [
    "#2\n",
    "import turtle as t\n",
    "import math\n",
    "t.color(\"blue\")\n",
    "l = 30\n",
    "l2 = l * math.sqrt(2)\n",
    "helper = [(0, 0, l, 90, 2 * l, 90, l, 90, 2 * l, 90), \n",
    "       (l, 90, 2 * l,135, l2, 135), (l, 180, l,-135, l2, 45, l, 90, l, 180),\n",
    "       (0, 45, l2, 135, l, -135, l2, 135, l, 180),(l,90, 2*l, 180, l, -90, l, -90, l, -90),\n",
    "       (0, 0, l, 90, l, 90, l, -90, l, -90, l),(0, 0, l, 90, l, 90, l, 90, l, 180, l, -45, l2, -45),\n",
    "       (0, 90, l, -45, l2, 135, l, 180),(0, 0, l, 90, 2*l, 90, l, 90, 2*l, 180, l, -90, l),\n",
    "       (0, 45, l2, 45, l, 90, l, 90, l, 90, l)]\n",
    "\n",
    "#number = input()\n",
    "number = \"141700\"\n",
    "for k, digit in enumerate(number):\n",
    "    t.penup()\n",
    "    t.goto((k - len(number) / 2) * (l + 10),0)\n",
    "    t.pendown();\n",
    "    n = helper[int(digit)]\n",
    "    t.penup()\n",
    "    t.forward(n[0])\n",
    "    t.left(n[1])\n",
    "    t.pendown()\n",
    "    for j in range(2, len(n)):\n",
    "        if (j % 2 == 0):\n",
    "            t.forward(n[j])\n",
    "        else:\n",
    "            t.left(n[j])\n",
    "t.exitonclick()"
   ]
  },
  {
   "cell_type": "code",
   "execution_count": 1,
   "metadata": {},
   "outputs": [
    {
     "ename": "FileNotFoundError",
     "evalue": "[Errno 2] No such file or directory: 'input.txt'",
     "output_type": "error",
     "traceback": [
      "\u001b[0;31m---------------------------------------------------------------------------\u001b[0m",
      "\u001b[0;31mFileNotFoundError\u001b[0m                         Traceback (most recent call last)",
      "\u001b[0;32m<ipython-input-1-05d07e34338c>\u001b[0m in \u001b[0;36m<module>\u001b[0;34m\u001b[0m\n\u001b[1;32m     11\u001b[0m        \u001b[0;34m(\u001b[0m\u001b[0;36m0\u001b[0m\u001b[0;34m,\u001b[0m \u001b[0;36m90\u001b[0m\u001b[0;34m,\u001b[0m \u001b[0ml\u001b[0m\u001b[0;34m,\u001b[0m \u001b[0;34m-\u001b[0m\u001b[0;36m45\u001b[0m\u001b[0;34m,\u001b[0m \u001b[0ml2\u001b[0m\u001b[0;34m,\u001b[0m \u001b[0;36m135\u001b[0m\u001b[0;34m,\u001b[0m \u001b[0ml\u001b[0m\u001b[0;34m,\u001b[0m \u001b[0;36m180\u001b[0m\u001b[0;34m)\u001b[0m\u001b[0;34m,\u001b[0m\u001b[0;34m(\u001b[0m\u001b[0;36m0\u001b[0m\u001b[0;34m,\u001b[0m \u001b[0;36m0\u001b[0m\u001b[0;34m,\u001b[0m \u001b[0ml\u001b[0m\u001b[0;34m,\u001b[0m \u001b[0;36m90\u001b[0m\u001b[0;34m,\u001b[0m \u001b[0;36m2\u001b[0m\u001b[0;34m*\u001b[0m\u001b[0ml\u001b[0m\u001b[0;34m,\u001b[0m \u001b[0;36m90\u001b[0m\u001b[0;34m,\u001b[0m \u001b[0ml\u001b[0m\u001b[0;34m,\u001b[0m \u001b[0;36m90\u001b[0m\u001b[0;34m,\u001b[0m \u001b[0;36m2\u001b[0m\u001b[0;34m*\u001b[0m\u001b[0ml\u001b[0m\u001b[0;34m,\u001b[0m \u001b[0;36m180\u001b[0m\u001b[0;34m,\u001b[0m \u001b[0ml\u001b[0m\u001b[0;34m,\u001b[0m \u001b[0;34m-\u001b[0m\u001b[0;36m90\u001b[0m\u001b[0;34m,\u001b[0m \u001b[0ml\u001b[0m\u001b[0;34m)\u001b[0m\u001b[0;34m,\u001b[0m\u001b[0;34m\u001b[0m\u001b[0;34m\u001b[0m\u001b[0m\n\u001b[1;32m     12\u001b[0m        (0, 45, l2, 45, l, 90, l, 90, l, 90, l)]\n\u001b[0;32m---> 13\u001b[0;31m \u001b[0mfile\u001b[0m \u001b[0;34m=\u001b[0m \u001b[0mopen\u001b[0m\u001b[0;34m(\u001b[0m\u001b[0;34m'input.txt'\u001b[0m\u001b[0;34m,\u001b[0m \u001b[0;34m'r'\u001b[0m\u001b[0;34m)\u001b[0m\u001b[0;34m\u001b[0m\u001b[0;34m\u001b[0m\u001b[0m\n\u001b[0m\u001b[1;32m     14\u001b[0m \u001b[0mnumber\u001b[0m \u001b[0;34m=\u001b[0m \u001b[0mfile\u001b[0m\u001b[0;34m.\u001b[0m\u001b[0mread\u001b[0m\u001b[0;34m(\u001b[0m\u001b[0;34m)\u001b[0m\u001b[0;34m.\u001b[0m\u001b[0mrstrip\u001b[0m\u001b[0;34m(\u001b[0m\u001b[0;34m)\u001b[0m\u001b[0;34m\u001b[0m\u001b[0;34m\u001b[0m\u001b[0m\n\u001b[1;32m     15\u001b[0m \u001b[0mfile\u001b[0m\u001b[0;34m.\u001b[0m\u001b[0mclose\u001b[0m\u001b[0;34m(\u001b[0m\u001b[0;34m)\u001b[0m\u001b[0;34m\u001b[0m\u001b[0;34m\u001b[0m\u001b[0m\n",
      "\u001b[0;31mFileNotFoundError\u001b[0m: [Errno 2] No such file or directory: 'input.txt'"
     ]
    }
   ],
   "source": [
    "#3\n",
    "import turtle as t\n",
    "import math\n",
    "\n",
    "l = 30\n",
    "l2 = l * math.sqrt(2)\n",
    "helper = [(0, 0, l, 90, 2 * l, 90, l, 90, 2 * l, 90), \n",
    "       (l, 90, 2 * l,135, l2, 135), (l, 180, l,-135, l2, 45, l, 90, l, 180),\n",
    "       (0, 45, l2, 135, l, -135, l2, 135, l, 180),(l,90, 2*l, 180, l, -90, l, -90, l, -90),\n",
    "       (0, 0, l, 90, l, 90, l, -90, l, -90, l),(0, 0, l, 90, l, 90, l, 90, l, 180, l, -45, l2, -45),\n",
    "       (0, 90, l, -45, l2, 135, l, 180),(0, 0, l, 90, 2*l, 90, l, 90, 2*l, 180, l, -90, l),\n",
    "       (0, 45, l2, 45, l, 90, l, 90, l, 90, l)]\n",
    "file = open('input.txt', 'r')\n",
    "number = file.read().rstrip()\n",
    "file.close()\n",
    "for k, digit in enumerate(number):\n",
    "    t.penup()\n",
    "    t.goto((k-len(number)/2)*(l+10),0)\n",
    "    t.pendown();\n",
    "    n = helper[int(digit)]\n",
    "    t.penup()\n",
    "    t.forward(n[0])\n",
    "    t.left(n[1])\n",
    "    t.pendown()\n",
    "    for j in range(2, len(n)):\n",
    "        if (j % 2 == 0):\n",
    "            t.forward(n[j])\n",
    "        else:\n",
    "            t.left(n[j])\n",
    "t.exitonclick()"
   ]
  },
  {
   "cell_type": "code",
   "execution_count": null,
   "metadata": {},
   "outputs": [],
   "source": []
  },
  {
   "cell_type": "code",
   "execution_count": null,
   "metadata": {},
   "outputs": [],
   "source": []
  },
  {
   "cell_type": "code",
   "execution_count": null,
   "metadata": {},
   "outputs": [],
   "source": []
  },
  {
   "cell_type": "code",
   "execution_count": null,
   "metadata": {},
   "outputs": [],
   "source": []
  }
 ],
 "metadata": {
  "kernelspec": {
   "display_name": "Python 3",
   "language": "python",
   "name": "python3"
  },
  "language_info": {
   "codemirror_mode": {
    "name": "ipython",
    "version": 3
   },
   "file_extension": ".py",
   "mimetype": "text/x-python",
   "name": "python",
   "nbconvert_exporter": "python",
   "pygments_lexer": "ipython3",
   "version": "3.7.4"
  }
 },
 "nbformat": 4,
 "nbformat_minor": 2
}
