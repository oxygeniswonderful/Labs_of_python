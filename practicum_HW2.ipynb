{
 "cells": [
  {
   "cell_type": "code",
   "execution_count": 1,
   "metadata": {},
   "outputs": [],
   "source": [
    "#2\n",
    "import turtle\n",
    "turtle.shape('turtle')\n",
    "turtle.forward(50)\n",
    "turtle.left(90)\n",
    "turtle.forward(50)\n",
    "turtle.left(90)\n",
    "turtle.forward(50)\n",
    "turtle.right(90)\n",
    "turtle.forward(50)\n",
    "turtle.right(90)\n",
    "turtle.forward(50)\n",
    "turtle.exitonclick()"
   ]
  },
  {
   "cell_type": "code",
   "execution_count": 1,
   "metadata": {},
   "outputs": [],
   "source": [
    "#3\n",
    "import turtle\n",
    "turtle.shape('turtle')\n",
    "for i in range(4):\n",
    "    turtle.forward(50)\n",
    "    turtle.left(90)\n",
    "turtle.exitonclick()"
   ]
  },
  {
   "cell_type": "code",
   "execution_count": 2,
   "metadata": {},
   "outputs": [],
   "source": [
    "#4\n",
    "import turtle\n",
    "turtle.shape('turtle')\n",
    "n = 36\n",
    "for i in range(n):\n",
    "    turtle.forward(20)\n",
    "    turtle.left(10)\n",
    "turtle.exitonclick()"
   ]
  },
  {
   "cell_type": "code",
   "execution_count": 1,
   "metadata": {},
   "outputs": [],
   "source": [
    "#5\n",
    "import turtle\n",
    "turtle.shape(\"turtle\")\n",
    "x = 1\n",
    "y = 20\n",
    "while x <= 10:\n",
    "    turtle.left(225)\n",
    "    turtle.penup()\n",
    "    turtle.forward((y**2/2)**0.5)\n",
    "    turtle.left(135)\n",
    "    turtle.pendown()\n",
    "    turtle.forward(y*x)\n",
    "    turtle.left(90)\n",
    "    turtle.forward(y * x)\n",
    "    turtle.left(90)\n",
    "    turtle.forward(y*x)\n",
    "    turtle.left(90)\n",
    "    turtle.forward(y*x)\n",
    "    turtle.left(90)\n",
    "    x += 1\n",
    "turtle.exitonclick()"
   ]
  },
  {
   "cell_type": "code",
   "execution_count": 1,
   "metadata": {},
   "outputs": [],
   "source": [
    "#6\n",
    "import turtle\n",
    "turtle.shape('turtle')\n",
    "n = 12\n",
    "for i in range(n):\n",
    "    turtle.forward(50)\n",
    "    turtle.stamp()\n",
    "    turtle.left(180)\n",
    "    turtle.forward(50)\n",
    "    turtle.left(150)\n",
    "turtle.exitonclick()"
   ]
  },
  {
   "cell_type": "code",
   "execution_count": 1,
   "metadata": {},
   "outputs": [],
   "source": [
    "#7\n",
    "from turtle import Turtle, Screen\n",
    "import numpy as np\n",
    "from math import pi, sin, cos\n",
    "from random import randint, random\n",
    "R = 180  \n",
    "screen = Screen()\n",
    "WIDTH, HEIGHT = screen.window_width(), screen.window_height()\n",
    "turtle = Turtle(visible=False)\n",
    "turtle.speed('fastest')  \n",
    "turtle.up()\n",
    "for _ in range(1):\n",
    "    x = randint(R - WIDTH//2, WIDTH//2 - R)\n",
    "    y = randint(R - HEIGHT//2, HEIGHT//2 - R)\n",
    "    turtle.goto(x, y)\n",
    "    turtle.down()\n",
    "    for i in range(200):\n",
    "        t = i / 20 * np.pi\n",
    "        dx = (1 + 5 * t) * np.cos(t)\n",
    "        dy = (1 + 5 * t) * np.sin(t)\n",
    "        turtle.goto(x + dx, y + dy)\n",
    "    turtle.up()\n",
    "screen.exitonclick()"
   ]
  },
  {
   "cell_type": "code",
   "execution_count": 1,
   "metadata": {},
   "outputs": [],
   "source": [
    "#8\n",
    "import turtle\n",
    "turtle.shape('turtle')\n",
    "n = 40\n",
    "for i in range(1,n):\n",
    "    turtle.forward(10*i)\n",
    "    turtle.left(90)"
   ]
  },
  {
   "cell_type": "code",
   "execution_count": 1,
   "metadata": {},
   "outputs": [],
   "source": [
    "#9\n",
    "import turtle\n",
    "import math\n",
    "turtle.shape('turtle')\n",
    "def more_agles(n,m): \n",
    "    q=360/n\n",
    "    while n>0:\n",
    "        \n",
    "        turtle.left(q)\n",
    "        turtle.forward(m)\n",
    "        n-=1\n",
    "n=3\n",
    "r=10 \n",
    "while n<13:\n",
    "    m=2*r*math.sin(math.pi/n) #считаем размер стороны многоугольника (a=2Rsin (360/2n))\n",
    "    x=(180-360/n)/2\n",
    "    turtle.left(x)\n",
    "    more_agles(n,m)\n",
    "    turtle.right(x)\n",
    "    turtle.penup()\n",
    "    turtle.forward(10)\n",
    "    turtle.pendown()\n",
    "    n+=1\n",
    "    r+=10 "
   ]
  },
  {
   "cell_type": "code",
   "execution_count": 1,
   "metadata": {},
   "outputs": [],
   "source": [
    "#10\n",
    "import turtle\n",
    "turtle.shape('turtle')\n",
    "def f(R, t):\n",
    "    for i in range(36):\n",
    "        turtle.forward(R)\n",
    "        if t == \"left\":\n",
    "            turtle.left(10)\n",
    "        if t == \"right\":\n",
    "            turtle.right(10)\n",
    "n = 6 #n = int(input())\n",
    "r = 10 #r = int(input())\n",
    "c = 1\n",
    "for i in range(2*n):\n",
    "    if i % 2 == 0:\n",
    "        f(r, \"left\")\n",
    "        c += 1\n",
    "    else:\n",
    "        f(r, \"right\")\n",
    "        c += 1\n",
    "    if c % 3 == 0:\n",
    "        c = 1\n",
    "        turtle.left(360/n / 2)"
   ]
  },
  {
   "cell_type": "code",
   "execution_count": 1,
   "metadata": {},
   "outputs": [],
   "source": [
    "#11\n",
    "import turtle\n",
    "turtle.shape('turtle')\n",
    "turtle.left(90)\n",
    "def f(R, t):\n",
    "    for i in range(36):\n",
    "        turtle.forward(R)\n",
    "        if t == \"left\":\n",
    "            turtle.left(10)\n",
    "        if t == \"right\":\n",
    "            turtle.right(10)\n",
    "n = 4 #n = int(input())\n",
    "r = 10\n",
    "c = 1\n",
    "for i in range(2*n):\n",
    "    if i % 2 == 0:\n",
    "        f(r, \"left\")\n",
    "        c += 1\n",
    "    else:\n",
    "        f(r, \"right\")\n",
    "        c += 1\n",
    "    if c % 3 == 0:\n",
    "        r += 5\n",
    "        c = 1"
   ]
  },
  {
   "cell_type": "code",
   "execution_count": 1,
   "metadata": {},
   "outputs": [],
   "source": [
    "#12\n",
    "import turtle\n",
    "turtle.shape('turtle')\n",
    "turtle.left(90)\n",
    "def f(R, t):\n",
    "    for i in range(18):\n",
    "        turtle.forward(R)\n",
    "        if t == \"left\":\n",
    "            turtle.left(10)\n",
    "        if t == \"right\":\n",
    "            turtle.right(10)\n",
    "n = 4 #n = int(input())\n",
    "r = 10\n",
    "for i in range(2*n):\n",
    "    if i % 2 == 0:\n",
    "        f(r, \"right\")\n",
    "    else:\n",
    "        f(r/5, \"right\")"
   ]
  },
  {
   "cell_type": "code",
   "execution_count": 1,
   "metadata": {},
   "outputs": [],
   "source": [
    "#13\n",
    "import turtle\n",
    "def f(R):\n",
    "    for i in range(36):\n",
    "        turtle.forward(R)\n",
    "        turtle.left(10)\n",
    "turtle.shape('turtle')    \n",
    "turtle.color('black')     \n",
    "turtle.up()               \n",
    "turtle.goto (100, 0)      \n",
    "turtle.left(90)           \n",
    "turtle.down()             \n",
    "turtle.fillcolor('yellow')\n",
    "turtle.begin_fill()       \n",
    "turtle.circle(100)        \n",
    "turtle.end_fill()         \n",
    "turtle.up()               \n",
    "turtle.goto(-30, 50)      \n",
    "turtle.down()             \n",
    "turtle.fillcolor('blue')  \n",
    "turtle.begin_fill()       \n",
    "turtle.circle(15)         \n",
    "turtle.end_fill()         \n",
    "turtle.up()               \n",
    "turtle.goto(60, 50)       \n",
    "turtle.down()             \n",
    "turtle.fillcolor('blue')  \n",
    "turtle.begin_fill()       \n",
    "turtle.circle(15)         \n",
    "turtle.end_fill()         \n",
    "turtle.up()               \n",
    "turtle.goto(0, 30)        \n",
    "turtle.down()             \n",
    "turtle.color('black')     \n",
    "turtle.pensize(8)         \n",
    "turtle.left(180)          \n",
    "turtle.forward(50)        \n",
    "turtle.up()               \n",
    "turtle.goto(70, -10)      \n",
    "turtle.color('red')       \n",
    "turtle.down()             \n",
    "turtle.circle(-70, 180, 30)"
   ]
  },
  {
   "cell_type": "code",
   "execution_count": 1,
   "metadata": {},
   "outputs": [
    {
     "name": "stdout",
     "output_type": "stream",
     "text": [
      "5\n"
     ]
    }
   ],
   "source": [
    "#14\n",
    "import turtle\n",
    "turtle.shape('turtle')\n",
    "def stars(n):\n",
    "    turtle.left(180 - (180 / n))\n",
    "    turtle.forward(200)\n",
    "n = int(input()) #Вводим число вершин\n",
    "x = 1\n",
    "while x <= n:\n",
    "    stars(n)\n",
    "    x += 1"
   ]
  },
  {
   "cell_type": "code",
   "execution_count": null,
   "metadata": {},
   "outputs": [],
   "source": [
    "\n"
   ]
  },
  {
   "cell_type": "code",
   "execution_count": null,
   "metadata": {},
   "outputs": [],
   "source": []
  },
  {
   "cell_type": "code",
   "execution_count": null,
   "metadata": {},
   "outputs": [],
   "source": []
  },
  {
   "cell_type": "code",
   "execution_count": null,
   "metadata": {},
   "outputs": [],
   "source": []
  }
 ],
 "metadata": {
  "kernelspec": {
   "display_name": "Python 3",
   "language": "python",
   "name": "python3"
  },
  "language_info": {
   "codemirror_mode": {
    "name": "ipython",
    "version": 3
   },
   "file_extension": ".py",
   "mimetype": "text/x-python",
   "name": "python",
   "nbconvert_exporter": "python",
   "pygments_lexer": "ipython3",
   "version": "3.7.4"
  }
 },
 "nbformat": 4,
 "nbformat_minor": 2
}
